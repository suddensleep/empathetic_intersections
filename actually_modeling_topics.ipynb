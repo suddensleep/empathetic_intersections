{
 "cells": [
  {
   "cell_type": "code",
   "execution_count": 2,
   "metadata": {
    "collapsed": true
   },
   "outputs": [],
   "source": [
    "import pickle\n",
    "import pandas as pd\n",
    "from gensim import corpora, models, similarities\n",
    "import numpy as np"
   ]
  },
  {
   "cell_type": "code",
   "execution_count": 3,
   "metadata": {
    "collapsed": false
   },
   "outputs": [],
   "source": [
    "with open('lda_models.pkl', 'r') as f:\n",
    "    lda_models = pickle.load(f)"
   ]
  },
  {
   "cell_type": "code",
   "execution_count": 3,
   "metadata": {
    "collapsed": true
   },
   "outputs": [],
   "source": [
    "best_lda = lda_models[2]"
   ]
  },
  {
   "cell_type": "code",
   "execution_count": 4,
   "metadata": {
    "collapsed": true
   },
   "outputs": [],
   "source": [
    "corpus = corpora.MmCorpus('./my_corpus.mm')"
   ]
  },
  {
   "cell_type": "code",
   "execution_count": 7,
   "metadata": {
    "collapsed": false
   },
   "outputs": [
    {
     "data": {
      "text/plain": [
       "gensim.corpora.mmcorpus.MmCorpus"
      ]
     },
     "execution_count": 7,
     "metadata": {},
     "output_type": "execute_result"
    }
   ],
   "source": [
    "type(corpus)"
   ]
  },
  {
   "cell_type": "code",
   "execution_count": 5,
   "metadata": {
    "collapsed": true
   },
   "outputs": [],
   "source": [
    "lda_corpora = []\n",
    "for i in range(len(lda_models)):\n",
    "    lda_corpora.append(lda_models[i][corpus])"
   ]
  },
  {
   "cell_type": "code",
   "execution_count": 80,
   "metadata": {
    "collapsed": true
   },
   "outputs": [],
   "source": [
    "for i in range(len(lda_corpora)):\n",
    "    corpora.MmCorpus.serialize('./my_lda_corpus_' + str(i) + '.mm', lda_corpora[i])"
   ]
  },
  {
   "cell_type": "code",
   "execution_count": 56,
   "metadata": {
    "collapsed": false
   },
   "outputs": [
    {
     "name": "stderr",
     "output_type": "stream",
     "text": [
      "WARNING:gensim.similarities.docsim:scanning corpus to determine the number of features (consider setting `num_features` explicitly)\n",
      "WARNING:gensim.similarities.docsim:scanning corpus to determine the number of features (consider setting `num_features` explicitly)\n",
      "WARNING:gensim.similarities.docsim:scanning corpus to determine the number of features (consider setting `num_features` explicitly)\n",
      "WARNING:gensim.similarities.docsim:scanning corpus to determine the number of features (consider setting `num_features` explicitly)\n"
     ]
    }
   ],
   "source": [
    "indices = []\n",
    "for i in range(len(lda_models)):\n",
    "    indices.append(similarities.MatrixSimilarity(lda_corpora[i]))"
   ]
  },
  {
   "cell_type": "code",
   "execution_count": 59,
   "metadata": {
    "collapsed": true
   },
   "outputs": [],
   "source": [
    "indices[0].save('./lda_corpus_with_2_similarities.index')\n",
    "indices[1].save('./lda_corpus_with_10_similarities.index')\n",
    "indices[2].save('./lda_corpus_with_50_similarities.index')\n",
    "indices[3].save('./lda_corpus_with_100_similarities.index')"
   ]
  },
  {
   "cell_type": "code",
   "execution_count": 6,
   "metadata": {
    "collapsed": true
   },
   "outputs": [],
   "source": [
    "indices = []\n",
    "indices.append(similarities.MatrixSimilarity.load('./lda_corpus_with_2_similarities.index'))\n",
    "indices.append(similarities.MatrixSimilarity.load('./lda_corpus_with_10_similarities.index'))\n",
    "indices.append(similarities.MatrixSimilarity.load('./lda_corpus_with_50_similarities.index'))\n",
    "indices.append(similarities.MatrixSimilarity.load('./lda_corpus_with_100_similarities.index'))"
   ]
  },
  {
   "cell_type": "code",
   "execution_count": 7,
   "metadata": {
    "collapsed": true
   },
   "outputs": [],
   "source": [
    "dictionary = corpora.Dictionary.load('./my_dict.dict')"
   ]
  },
  {
   "cell_type": "code",
   "execution_count": 8,
   "metadata": {
    "collapsed": false
   },
   "outputs": [],
   "source": [
    "def get_av_sim_docs(s):\n",
    "    sims = []\n",
    "    av_sims = []\n",
    "    for i in range(len(lda_models)):\n",
    "        sims.append(indices[i][lda_models[i][dictionary.doc2bow(s.lower().split())]])\n",
    "    for j in range(len(sims[0])):\n",
    "        av_sims.append(np.mean([sims[k][j] for k in range(len(lda_models))]))\n",
    "    return sorted(enumerate(av_sims), key = lambda item:-item[1])"
   ]
  },
  {
   "cell_type": "code",
   "execution_count": 10,
   "metadata": {
    "collapsed": true
   },
   "outputs": [],
   "source": [
    "with open('documents.pkl', 'r') as f:\n",
    "    documents = pickle.load(f)"
   ]
  },
  {
   "cell_type": "code",
   "execution_count": 1,
   "metadata": {
    "collapsed": false
   },
   "outputs": [
    {
     "ename": "NameError",
     "evalue": "name 'get_av_sim_docs' is not defined",
     "output_type": "error",
     "traceback": [
      "\u001b[0;31m---------------------------------------------------------------------------\u001b[0m",
      "\u001b[0;31mNameError\u001b[0m                                 Traceback (most recent call last)",
      "\u001b[0;32m<ipython-input-1-3bb7b9d19c04>\u001b[0m in \u001b[0;36m<module>\u001b[0;34m()\u001b[0m\n\u001b[1;32m      1\u001b[0m \u001b[0mdoc\u001b[0m \u001b[0;34m=\u001b[0m \u001b[0;34m'abortion is super good for the baby'\u001b[0m\u001b[0;34m\u001b[0m\u001b[0m\n\u001b[0;32m----> 2\u001b[0;31m \u001b[0msims\u001b[0m \u001b[0;34m=\u001b[0m \u001b[0mget_av_sim_docs\u001b[0m\u001b[0;34m(\u001b[0m\u001b[0mdoc\u001b[0m\u001b[0;34m)\u001b[0m\u001b[0;34m\u001b[0m\u001b[0m\n\u001b[0m\u001b[1;32m      3\u001b[0m \u001b[0msim_posts\u001b[0m \u001b[0;34m=\u001b[0m \u001b[0;34m[\u001b[0m\u001b[0;34m]\u001b[0m\u001b[0;34m\u001b[0m\u001b[0m\n\u001b[1;32m      4\u001b[0m \u001b[0msim_comments\u001b[0m \u001b[0;34m=\u001b[0m \u001b[0;34m[\u001b[0m\u001b[0;34m]\u001b[0m\u001b[0;34m\u001b[0m\u001b[0m\n\u001b[1;32m      5\u001b[0m \u001b[0;32mfor\u001b[0m \u001b[0msim\u001b[0m \u001b[0;32min\u001b[0m \u001b[0msims\u001b[0m\u001b[0;34m:\u001b[0m\u001b[0;34m\u001b[0m\u001b[0m\n",
      "\u001b[0;31mNameError\u001b[0m: name 'get_av_sim_docs' is not defined"
     ]
    }
   ],
   "source": [
    "doc = 'abortion is super good for the baby'\n",
    "sims = get_av_sim_docs(doc)\n",
    "sim_posts = []\n",
    "sim_comments = []\n",
    "for sim in sims:\n",
    "    if sim[0] < 1049:\n",
    "        sim_posts.append(sim)\n",
    "    else:\n",
    "        sim_comments.append(sim)\n",
    "\n",
    "for id_num, sim in sim_posts[:5]:\n",
    "    print documents[id_num]\n",
    "    print '_________________________'\n",
    "for id_num, sim in sim_comments[:5]:\n",
    "    print documents[id_num]\n",
    "    print '_________________________'"
   ]
  },
  {
   "cell_type": "code",
   "execution_count": 21,
   "metadata": {
    "collapsed": false
   },
   "outputs": [],
   "source": []
  },
  {
   "cell_type": "code",
   "execution_count": 55,
   "metadata": {
    "collapsed": false
   },
   "outputs": [
    {
     "name": "stdout",
     "output_type": "stream",
     "text": [
      "I dont think you know what effective tax rate means\n",
      "There are plenty of places where jobs are plentiful and houses are still relatively cheap  \n",
      "Mortgage interest is taxdeductible   Your rent is not \n",
      "Or how about we tax the rich\n",
      "If you want to leave all assets above 250k go to the US\n",
      "\n",
      "GG\n",
      "Higher taxes on the rich decreases wealth inequality \n",
      "\n",
      "httpwwwforbescomsitestaxanalysts20140326whyraisingtaxesontherichisimportant\n",
      "Maybe they stay rich because the tax isnt high enough\n",
      "Where did I say that there would an unsustainable amount of freeloaders\n",
      "How does a minimum wage help the poor\n",
      "A higher rate than a low rate can still be a low rate\n"
     ]
    }
   ],
   "source": [
    "doc = 'global warming isn\\'t real'\n",
    "sims = index[best_lda[dictionary.doc2bow(doc.lower().split())]]\n",
    "sims = sorted(enumerate(sims), key=lambda item: -item[1])\n",
    "for id_num, sim in sims[:10]:\n",
    "    print documents[id_num]"
   ]
  },
  {
   "cell_type": "code",
   "execution_count": 33,
   "metadata": {
    "collapsed": false
   },
   "outputs": [
    {
     "data": {
      "text/plain": [
       "[(73, 2.0), (140, 1.0), (389, 1.0), (1252, 1.0), (5900, 1.0)]"
      ]
     },
     "execution_count": 33,
     "metadata": {},
     "output_type": "execute_result"
    }
   ],
   "source": [
    "corpus[1074]"
   ]
  },
  {
   "cell_type": "code",
   "execution_count": 38,
   "metadata": {
    "collapsed": false
   },
   "outputs": [
    {
     "data": {
      "text/plain": [
       "u'place'"
      ]
     },
     "execution_count": 38,
     "metadata": {},
     "output_type": "execute_result"
    }
   ],
   "source": [
    "dictionary[1252]"
   ]
  },
  {
   "cell_type": "code",
   "execution_count": null,
   "metadata": {
    "collapsed": true
   },
   "outputs": [],
   "source": []
  }
 ],
 "metadata": {
  "kernelspec": {
   "display_name": "Python 2",
   "language": "python",
   "name": "python2"
  },
  "language_info": {
   "codemirror_mode": {
    "name": "ipython",
    "version": 2
   },
   "file_extension": ".py",
   "mimetype": "text/x-python",
   "name": "python",
   "nbconvert_exporter": "python",
   "pygments_lexer": "ipython2",
   "version": "2.7.10"
  }
 },
 "nbformat": 4,
 "nbformat_minor": 0
}
